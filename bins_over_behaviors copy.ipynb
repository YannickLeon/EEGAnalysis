{
 "cells": [
  {
   "cell_type": "code",
   "execution_count": null,
   "metadata": {},
   "outputs": [],
   "source": [
    "from mne_bids import (BIDSPath,read_raw_bids)\n",
    "import mne_bids\n",
    "import mne\n",
    "import importlib\n",
    "import ccs_eeg_utils\n",
    "from IPython.display import clear_output\n",
    "import numpy as np\n",
    "from matplotlib import pyplot as plt\n",
    "import pandas as pd\n",
    "\n",
    "behaviors = [\"STATUS\", \"GAME OVER\", \"SHOOT_BUTTON\", \"MISSILE_HIT_ENEMY\", \"COLLECT_STAR\", \"PLAYER_CRASH_ENEMY\", \"PLAYER_CRASH_WALL\", \"COLLECT_AMMO\"]\n",
    "\n",
    "def filter_for_behavior(df, data, behavior, sampling_rate=500, window=100):\n",
    "    filtered_df = df[df['trial_type'] == behavior]\n",
    "    onset_times = filtered_df['onset'].values\n",
    "    eeg_data_points = (onset_times * sampling_rate).astype(int)\n",
    "    extracted_data = np.array([data[idx:idx + window] for idx in eeg_data_points if idx + window <= len(data)])\n",
    "    return extracted_data\n",
    "\n",
    "def create_bins(data, num_bins=8):\n",
    "    bin_size = 2 * np.pi / num_bins\n",
    "    bins = []\n",
    "    for i in range(num_bins):\n",
    "        bins.append([])\n",
    "    for element in data:\n",
    "        bin_index = int((element + np.pi) // bin_size)\n",
    "        bins[bin_index].append(element)\n",
    "    return bins"
   ]
  },
  {
   "cell_type": "code",
   "execution_count": null,
   "metadata": {},
   "outputs": [],
   "source": [
    "angles = []\n",
    "\n",
    "for sub in range(1, 18):\n",
    "    bids_root = \"./data/\"\n",
    "    subject_id = str(sub).zfill(3)\n",
    "\n",
    "    bids_path = BIDSPath(subject=subject_id, run=\"02\", task=\"ContinuousVideoGamePlay\",\n",
    "                        datatype='eeg', suffix='eeg',\n",
    "                        root=bids_root)\n",
    "\n",
    "    # read the file\n",
    "    raw = read_raw_bids(bids_path)\n",
    "    # fix the annotations readin\n",
    "    ccs_eeg_utils.read_annotations_core(bids_path,raw)\n",
    "    clear_output()\n",
    "    raw.load_data()\n",
    "    raw.filter(0.01, 0.1, picks=\"all\")\n",
    "    raw.apply_hilbert(picks=\"all\")\n",
    "    test = np.angle(raw.get_data(picks=\"all\"))\n",
    "\n",
    "    df = pd.read_csv(f'data\\\\sub-{subject_id}\\\\eeg\\\\sub-{subject_id}_task-ContinuousVideoGamePlay_run-02_events.tsv', sep='\\t')\n",
    "    # for i in range(0, 65):\n",
    "    i = 48\n",
    "    res = filter_for_behavior(df, test[i], \"COLLECT_STAR\", window=500)\n",
    "    res = res.flatten()\n",
    "    angles.append(res)"
   ]
  }
 ],
 "metadata": {
  "kernelspec": {
   "display_name": "eeg",
   "language": "python",
   "name": "python3"
  },
  "language_info": {
   "name": "python",
   "version": "3.10.16"
  }
 },
 "nbformat": 4,
 "nbformat_minor": 2
}
