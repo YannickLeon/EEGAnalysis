{
 "cells": [
  {
   "cell_type": "code",
   "execution_count": 1,
   "metadata": {},
   "outputs": [],
   "source": [
    "from Preprocessing import Preprocessing\n",
    "from utils import Behaviour, Baseline\n",
    "import Experiments\n",
    "import matplotlib\n",
    "matplotlib.use('Agg') # Prevent drawings in this notebook\n",
    "import matplotlib.pyplot as plt"
   ]
  },
  {
   "cell_type": "code",
   "execution_count": 2,
   "metadata": {},
   "outputs": [],
   "source": [
    "bids_root = \"../data/\"\n",
    "preprocessing = Preprocessing(bids_root, \"cache\")\n",
    "data = preprocessing.load_all_subjects()"
   ]
  },
  {
   "cell_type": "code",
   "execution_count": 3,
   "metadata": {},
   "outputs": [
    {
     "name": "stderr",
     "output_type": "stream",
     "text": [
      "python(49267) MallocStackLogging: can't turn off malloc stack logging because it was not enabled.\n",
      "  3%|▎         | 13/455 [00:48<25:15,  3.43s/it]Exception ignored in: <bound method IPythonKernel._clean_thread_parent_frames of <ipykernel.ipkernel.IPythonKernel object at 0x104ecda20>>\n",
      "Traceback (most recent call last):\n",
      "  File \"/Users/philipp/miniconda3/envs/eeg/lib/python3.10/site-packages/ipykernel/ipkernel.py\", line 775, in _clean_thread_parent_frames\n",
      "    def _clean_thread_parent_frames(\n",
      "KeyboardInterrupt: \n",
      "100%|██████████| 455/455 [26:10<00:00,  3.45s/it]  \n"
     ]
    }
   ],
   "source": [
    "#combinations = [(3, Behaviour.SHOOT_BUTTON), (8, Behaviour.MISSILE_HIT_ENEMY)]\n",
    "combinations = [(i, behaviour) for i in range(65) for behaviour in Behaviour]\n",
    "peak_to_troughs = Experiments.run(data, combinations, 500, 1, 8)"
   ]
  },
  {
   "cell_type": "code",
   "execution_count": 37,
   "metadata": {},
   "outputs": [],
   "source": [
    "baseline_to_int = {Baseline.EXCLUDED: 0, Baseline.INCLUDED: 1, Baseline.NAIVE: 2}\n",
    "\n",
    "def plot_peak_to_trough_differences(behaviour, baseline, mode):\n",
    "    data = []\n",
    "    for electrode_index, peak_to_trough_value in peak_to_troughs[behaviour].items():\n",
    "        data.append((electrode_index, peak_to_trough_value[mode][baseline_to_int[baseline]]))\n",
    "    title = f\"Lower Peak-to-Trough Differences for {behaviour.value} ({'Raw' if mode == 0 else 'ICA'}, {baseline.value})\"\n",
    "    sorted_values = sorted(data, key=lambda x:x[1])[:20]\n",
    "    labels, values = zip(*sorted_values)\n",
    "    plt.figure()\n",
    "    plt.barh(range(len(values)), values, color='skyblue')\n",
    "    plt.xlabel(\"Peak-to-Trough Difference\")\n",
    "    plt.ylabel(\"Electrode\")\n",
    "    plt.yticks(range(len(labels)), labels)\n",
    "    plt.title(title)\n",
    "    plt.savefig(f\"../Results/{title}.png\")\n",
    "    plt.close()    "
   ]
  },
  {
   "cell_type": "code",
   "execution_count": 23,
   "metadata": {},
   "outputs": [
    {
     "ename": "TypeError",
     "evalue": "list indices must be integers or slices, not Baseline",
     "output_type": "error",
     "traceback": [
      "\u001b[0;31m---------------------------------------------------------------------------\u001b[0m",
      "\u001b[0;31mTypeError\u001b[0m                                 Traceback (most recent call last)",
      "Cell \u001b[0;32mIn[23], line 1\u001b[0m\n\u001b[0;32m----> 1\u001b[0m \u001b[43mpeak_to_troughs\u001b[49m\u001b[43m[\u001b[49m\u001b[43mBehaviour\u001b[49m\u001b[38;5;241;43m.\u001b[39;49m\u001b[43mCOLLECT_AMMO\u001b[49m\u001b[43m]\u001b[49m\u001b[43m[\u001b[49m\u001b[38;5;241;43m0\u001b[39;49m\u001b[43m]\u001b[49m\u001b[43m[\u001b[49m\u001b[38;5;241;43m0\u001b[39;49m\u001b[43m]\u001b[49m\u001b[43m[\u001b[49m\u001b[43mBaseline\u001b[49m\u001b[38;5;241;43m.\u001b[39;49m\u001b[43mEXCLUDED\u001b[49m\u001b[43m]\u001b[49m\n",
      "\u001b[0;31mTypeError\u001b[0m: list indices must be integers or slices, not Baseline"
     ]
    }
   ],
   "source": [
    "peak_to_troughs[Behaviour.COLLECT_AMMO][0][0][Baseline.EXCLUDED]"
   ]
  },
  {
   "cell_type": "code",
   "execution_count": 38,
   "metadata": {},
   "outputs": [],
   "source": [
    "for behavior in peak_to_troughs:\n",
    "    for baseline in Baseline:\n",
    "        plot_peak_to_trough_differences(behavior, baseline, 0)\n",
    "        plot_peak_to_trough_differences(behavior, baseline, 1)"
   ]
  }
 ],
 "metadata": {
  "kernelspec": {
   "display_name": "eeg",
   "language": "python",
   "name": "python3"
  },
  "language_info": {
   "codemirror_mode": {
    "name": "ipython",
    "version": 3
   },
   "file_extension": ".py",
   "mimetype": "text/x-python",
   "name": "python",
   "nbconvert_exporter": "python",
   "pygments_lexer": "ipython3",
   "version": "3.10.16"
  }
 },
 "nbformat": 4,
 "nbformat_minor": 2
}
