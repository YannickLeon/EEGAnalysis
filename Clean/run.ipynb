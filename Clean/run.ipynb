{
 "cells": [
  {
   "cell_type": "code",
   "execution_count": 1,
   "metadata": {},
   "outputs": [],
   "source": [
    "from Preprocessing import Preprocessing\n",
    "from utils import Behaviour, Baseline\n",
    "import Experiments\n",
    "import matplotlib\n",
    "matplotlib.use('Agg') # Prevent drawings in this notebook\n",
    "import matplotlib.pyplot as plt\n",
    "from multiprocessing import Pool\n",
    "import math"
   ]
  },
  {
   "cell_type": "code",
   "execution_count": 2,
   "metadata": {},
   "outputs": [],
   "source": [
    "# bids_root = \"../data/\"\n",
    "# preprocessing = Preprocessing(bids_root, \"cache\")\n",
    "# preprocessing.prepare_channels()"
   ]
  },
  {
   "cell_type": "code",
   "execution_count": null,
   "metadata": {},
   "outputs": [
    {
     "name": "stderr",
     "output_type": "stream",
     "text": [
      "100%|██████████| 20/20 [06:07<00:00, 18.39s/it]\n",
      "100%|██████████| 29/29 [08:34<00:00, 17.73s/it]\n",
      "100%|██████████| 29/29 [08:35<00:00, 17.76s/it]\n",
      "100%|██████████| 29/29 [08:35<00:00, 17.78s/it]\n",
      "100%|██████████| 29/29 [08:36<00:00, 17.80s/it]\n",
      "100%|██████████| 29/29 [08:37<00:00, 17.86s/it]\n",
      "100%|██████████| 29/29 [08:38<00:00, 17.88s/it]\n",
      "100%|██████████| 29/29 [08:39<00:00, 17.90s/it]\n",
      "100%|██████████| 29/29 [08:39<00:00, 17.91s/it]\n",
      "100%|██████████| 29/29 [08:39<00:00, 17.92s/it]\n",
      "100%|██████████| 29/29 [08:39<00:00, 17.93s/it]\n",
      "100%|██████████| 29/29 [08:40<00:00, 17.94s/it]\n",
      "100%|██████████| 29/29 [08:40<00:00, 17.95s/it]\n",
      "100%|██████████| 29/29 [08:40<00:00, 17.96s/it]\n",
      "100%|██████████| 29/29 [08:40<00:00, 17.96s/it]\n",
      "100%|██████████| 29/29 [08:40<00:00, 17.96s/it]\n"
     ]
    }
   ],
   "source": [
    "#combinations = [(3, Behaviour.SHOOT_BUTTON), (8, Behaviour.MISSILE_HIT_ENEMY)]\n",
    "combinations = [(i, behaviour) for i in range(65) for behaviour in Behaviour]\n",
    "combinations.sort(key=lambda x: x[0])\n",
    "\n",
    "process_count = 16\n",
    "inputs = []\n",
    "step_size = math.ceil(len(combinations)/process_count)\n",
    "for i in range(process_count):\n",
    "    inputs.append(combinations[step_size*i:step_size*(i+1)])\n",
    "\n",
    "with Pool(process_count) as p:\n",
    "    result = p.map(Experiments.run, inputs)"
   ]
  },
  {
   "cell_type": "code",
   "execution_count": 4,
   "metadata": {},
   "outputs": [],
   "source": [
    "# join results\n",
    "peak_to_troughs = {}\n",
    "for behavior in Behaviour:\n",
    "    peak_to_troughs[behavior] = {}\n",
    "for i in range(len(result)):\n",
    "    for behavior in result[i]:\n",
    "        peak_to_troughs[behavior].update(result[i][behavior])  # reverse to keep it ordered"
   ]
  },
  {
   "cell_type": "code",
   "execution_count": 46,
   "metadata": {},
   "outputs": [],
   "source": [
    "baseline_to_int = {Baseline.EXCLUDED: 0, Baseline.INCLUDED: 1, Baseline.NAIVE: 2}\n",
    "\n",
    "def plot_peak_to_trough_differences(behaviour, baseline, mode):\n",
    "    data = []\n",
    "    for electrode_index, peak_to_trough_value in peak_to_troughs[behaviour].items():\n",
    "        data.append((electrode_index, peak_to_trough_value[mode][baseline_to_int[baseline]]))\n",
    "    title = f\"Lower Peak-to-Trough Differences for {behaviour.value} ({'Raw' if mode == 0 else 'ICA'}, {baseline.value})\"\n",
    "    sorted_values = sorted(data, key=lambda x:x[1])[:20]\n",
    "    labels, values = zip(*sorted_values)\n",
    "    plt.figure()\n",
    "    plt.barh(range(len(values)), values, color='skyblue')\n",
    "    plt.xlabel(\"Peak-to-Trough Difference\")\n",
    "    plt.ylabel(\"Electrode\")\n",
    "    plt.yticks(range(len(labels)), labels)\n",
    "    plt.title(title)\n",
    "    plt.savefig(f\"../Results/{title}.png\")\n",
    "    plt.close()    "
   ]
  },
  {
   "cell_type": "code",
   "execution_count": 47,
   "metadata": {},
   "outputs": [],
   "source": [
    "for behavior in peak_to_troughs:\n",
    "    for baseline in Baseline:\n",
    "        plot_peak_to_trough_differences(behavior, baseline, 0)\n",
    "        plot_peak_to_trough_differences(behavior, baseline, 1)"
   ]
  }
 ],
 "metadata": {
  "kernelspec": {
   "display_name": "venv",
   "language": "python",
   "name": "python3"
  },
  "language_info": {
   "codemirror_mode": {
    "name": "ipython",
    "version": 3
   },
   "file_extension": ".py",
   "mimetype": "text/x-python",
   "name": "python",
   "nbconvert_exporter": "python",
   "pygments_lexer": "ipython3",
   "version": "3.10.12"
  }
 },
 "nbformat": 4,
 "nbformat_minor": 2
}
