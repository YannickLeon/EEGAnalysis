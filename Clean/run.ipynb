{
 "cells": [
  {
   "cell_type": "code",
   "execution_count": 1,
   "metadata": {},
   "outputs": [],
   "source": [
    "from Preprocessing import Preprocessing\n",
    "from utils import Behaviour\n",
    "import Experiments\n",
    "import matplotlib\n",
    "matplotlib.use('Agg') # Prevent drawings in this notebook"
   ]
  },
  {
   "cell_type": "code",
   "execution_count": 2,
   "metadata": {},
   "outputs": [],
   "source": [
    "bids_root = \"../data/\"\n",
    "preprocessing = Preprocessing(bids_root, \"cache\")\n",
    "data = preprocessing.load_all_subjects()"
   ]
  },
  {
   "cell_type": "code",
   "execution_count": null,
   "metadata": {},
   "outputs": [
    {
     "name": "stderr",
     "output_type": "stream",
     "text": [
      "python(26374) MallocStackLogging: can't turn off malloc stack logging because it was not enabled.\n",
      "100%|██████████| 455/455 [35:49<00:00,  4.72s/it]   \n"
     ]
    }
   ],
   "source": [
    "baselines = [\"exclude_event\", \"include_event\", \"naive\"]\n",
    "#combinations = [(3, Behaviour.SHOOT_BUTTON), (8, Behaviour.MISSILE_HIT_ENEMY)]\n",
    "combinations = [(i, behaviour) for i in range(65) for behaviour in Behaviour]\n",
    "Experiments.run(data, combinations, baselines, 500, 1, 8)"
   ]
  }
 ],
 "metadata": {
  "kernelspec": {
   "display_name": "eeg",
   "language": "python",
   "name": "python3"
  },
  "language_info": {
   "codemirror_mode": {
    "name": "ipython",
    "version": 3
   },
   "file_extension": ".py",
   "mimetype": "text/x-python",
   "name": "python",
   "nbconvert_exporter": "python",
   "pygments_lexer": "ipython3",
   "version": "3.10.16"
  }
 },
 "nbformat": 4,
 "nbformat_minor": 2
}
