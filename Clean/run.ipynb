{
 "cells": [
  {
   "cell_type": "code",
   "execution_count": 1,
   "metadata": {},
   "outputs": [],
   "source": [
    "from Preprocessing import Preprocessing\n",
    "from utils import Behaviour, Baseline\n",
    "import Experiments\n",
    "import matplotlib\n",
    "matplotlib.use('Agg') # Prevent drawings in this notebook\n",
    "import matplotlib.pyplot as plt\n",
    "from multiprocessing import Pool\n",
    "import math"
   ]
  },
  {
   "cell_type": "code",
   "execution_count": 2,
   "metadata": {},
   "outputs": [],
   "source": [
    "bids_root = \"../data/\"\n",
    "preprocessing = Preprocessing(bids_root, \"cache\")\n",
    "preprocessing.prepare_channels()"
   ]
  },
  {
   "cell_type": "code",
   "execution_count": 3,
   "metadata": {},
   "outputs": [
    {
     "name": "stderr",
     "output_type": "stream",
     "text": [
      "  0%|          | 0/8 [00:00<?, ?it/s]\n"
     ]
    },
    {
     "ename": "ValueError",
     "evalue": "too many values to unpack (expected 2)",
     "output_type": "error",
     "traceback": [
      "\u001b[0;31m---------------------------------------------------------------------------\u001b[0m",
      "\u001b[0;31mValueError\u001b[0m                                Traceback (most recent call last)",
      "Cell \u001b[0;32mIn[3], line 11\u001b[0m\n\u001b[1;32m      8\u001b[0m \u001b[38;5;28;01mfor\u001b[39;00m i \u001b[38;5;129;01min\u001b[39;00m \u001b[38;5;28mrange\u001b[39m(process_count):\n\u001b[1;32m      9\u001b[0m     inputs\u001b[38;5;241m.\u001b[39mappend(combinations[step_size\u001b[38;5;241m*\u001b[39mi:step_size\u001b[38;5;241m*\u001b[39m(i\u001b[38;5;241m+\u001b[39m\u001b[38;5;241m1\u001b[39m)])\n\u001b[0;32m---> 11\u001b[0m \u001b[43mExperiments\u001b[49m\u001b[38;5;241;43m.\u001b[39;49m\u001b[43mrun\u001b[49m\u001b[43m(\u001b[49m\u001b[43minputs\u001b[49m\u001b[43m)\u001b[49m\n\u001b[1;32m     12\u001b[0m \u001b[38;5;66;03m# with Pool(process_count) as p:\u001b[39;00m\n\u001b[1;32m     13\u001b[0m \u001b[38;5;66;03m#     result = p.map(Experiments.run, inputs)\u001b[39;00m\n",
      "File \u001b[0;32m~/Code/EEGAnalysis/Clean/Experiments.py:28\u001b[0m, in \u001b[0;36mrun\u001b[0;34m(combinations, sampling_rate, window, num_bins)\u001b[0m\n\u001b[1;32m     26\u001b[0m     peak_to_troughs[behavior] \u001b[38;5;241m=\u001b[39m {}\n\u001b[1;32m     27\u001b[0m \u001b[38;5;28;01mfor\u001b[39;00m combination \u001b[38;5;129;01min\u001b[39;00m tqdm(combinations):\n\u001b[0;32m---> 28\u001b[0m     channel, behaviour \u001b[38;5;241m=\u001b[39m combination\n\u001b[1;32m     29\u001b[0m     \u001b[38;5;66;03m# load data for next channel\u001b[39;00m\n\u001b[1;32m     30\u001b[0m     \u001b[38;5;28;01mif\u001b[39;00m channel \u001b[38;5;241m!=\u001b[39m prev_channel:\n",
      "\u001b[0;31mValueError\u001b[0m: too many values to unpack (expected 2)"
     ]
    }
   ],
   "source": [
    "#combinations = [(3, Behaviour.SHOOT_BUTTON), (8, Behaviour.MISSILE_HIT_ENEMY)]\n",
    "combinations = [(i, behaviour) for i in range(65) for behaviour in Behaviour]\n",
    "combinations.sort(key=lambda x: x[0])\n",
    "\n",
    "process_count = 8\n",
    "inputs = []\n",
    "step_size = math.ceil(len(combinations)/process_count)\n",
    "for i in range(process_count):\n",
    "    inputs.append(combinations[step_size*i:step_size*(i+1)])\n",
    "\n",
    "Experiments.run(inputs)\n",
    "# with Pool(process_count) as p:\n",
    "#     result = p.map(Experiments.run, inputs)"
   ]
  },
  {
   "cell_type": "code",
   "execution_count": null,
   "metadata": {},
   "outputs": [],
   "source": [
    "# join results\n",
    "peak_to_troughs = {}\n",
    "for behavior in Behaviour:\n",
    "    peak_to_troughs[behavior] = {}\n",
    "for i in range(len(result)):\n",
    "    for behavior in result[i]:\n",
    "        peak_to_troughs[behavior].update(result[i][behavior])  # reverse to keep it ordered"
   ]
  },
  {
   "cell_type": "code",
   "execution_count": null,
   "metadata": {},
   "outputs": [],
   "source": [
    "baseline_to_int = {Baseline.EXCLUDED: 0, Baseline.INCLUDED: 1, Baseline.NAIVE: 2}\n",
    "\n",
    "def plot_peak_to_trough_differences(behaviour, baseline, mode):\n",
    "    data = []\n",
    "    for electrode_index, peak_to_trough_value in peak_to_troughs[behaviour].items():\n",
    "        data.append((electrode_index, peak_to_trough_value[mode][baseline_to_int[baseline]]))\n",
    "    title = f\"Lower Peak-to-Trough Differences for {behaviour.value} ({'Raw' if mode == 0 else 'ICA'}, {baseline.value})\"\n",
    "    sorted_values = sorted(data, key=lambda x:x[1])[:20]\n",
    "    labels, values = zip(*sorted_values)\n",
    "    plt.figure()\n",
    "    plt.barh(range(len(values)), values, color='skyblue')\n",
    "    plt.xlabel(\"Peak-to-Trough Difference\")\n",
    "    plt.ylabel(\"Electrode\")\n",
    "    plt.yticks(range(len(labels)), labels)\n",
    "    plt.title(title)\n",
    "    plt.savefig(f\"../Results/{title}.png\")\n",
    "    plt.close()    "
   ]
  },
  {
   "cell_type": "code",
   "execution_count": null,
   "metadata": {},
   "outputs": [],
   "source": [
    "for behavior in peak_to_troughs:\n",
    "    for baseline in Baseline:\n",
    "        plot_peak_to_trough_differences(behavior, baseline, 0)\n",
    "        plot_peak_to_trough_differences(behavior, baseline, 1)"
   ]
  }
 ],
 "metadata": {
  "kernelspec": {
   "display_name": "eeg",
   "language": "python",
   "name": "python3"
  },
  "language_info": {
   "codemirror_mode": {
    "name": "ipython",
    "version": 3
   },
   "file_extension": ".py",
   "mimetype": "text/x-python",
   "name": "python",
   "nbconvert_exporter": "python",
   "pygments_lexer": "ipython3",
   "version": "3.10.16"
  }
 },
 "nbformat": 4,
 "nbformat_minor": 2
}
