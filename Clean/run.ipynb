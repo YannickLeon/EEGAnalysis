{
 "cells": [
  {
   "cell_type": "code",
   "execution_count": 1,
   "metadata": {},
   "outputs": [],
   "source": [
    "from Preprocessing import Preprocessing\n",
    "from utils import Behaviour, Baseline\n",
    "import Experiments\n",
    "import matplotlib\n",
    "import matplotlib.pyplot as plt\n",
    "from multiprocessing import Pool\n",
    "import math\n",
    "matplotlib.use('Agg') # Prevent drawings in this notebook"
   ]
  },
  {
   "cell_type": "code",
   "execution_count": 2,
   "metadata": {},
   "outputs": [],
   "source": [
    "bids_root = \"../data/\"\n",
    "preprocessing = Preprocessing(bids_root, \"cache\")\n",
    "# create cache files\n",
    "preprocessing.prepare_channels()"
   ]
  },
  {
   "cell_type": "code",
   "execution_count": 3,
   "metadata": {},
   "outputs": [
    {
     "name": "stderr",
     "output_type": "stream",
     "text": [
      "100%|██████████| 20/20 [07:22<00:00, 22.14s/it]\n",
      "100%|██████████| 29/29 [10:38<00:00, 22.00s/it]\n",
      "100%|██████████| 29/29 [10:39<00:00, 22.07s/it]\n",
      "100%|██████████| 29/29 [10:44<00:00, 22.22s/it]\n",
      "100%|██████████| 29/29 [10:45<00:00, 22.26s/it]\n",
      "\n",
      "100%|██████████| 29/29 [10:45<00:00, 22.27s/it]\n",
      "100%|██████████| 29/29 [10:46<00:00, 22.30s/it]\n",
      "100%|██████████| 29/29 [10:46<00:00, 22.31s/it]\n",
      "100%|██████████| 29/29 [10:47<00:00, 22.31s/it]\n",
      "100%|██████████| 29/29 [10:47<00:00, 22.32s/it]\n",
      "100%|██████████| 29/29 [10:47<00:00, 22.34s/it]\n",
      "100%|██████████| 29/29 [10:48<00:00, 22.35s/it]\n",
      "100%|██████████| 29/29 [10:48<00:00, 22.36s/it]\n",
      "100%|██████████| 29/29 [10:51<00:00, 22.47s/it]\n",
      "100%|██████████| 29/29 [10:51<00:00, 22.47s/it]\n"
     ]
    }
   ],
   "source": [
    "combinations = [(i, behaviour) for i in range(65) for behaviour in Behaviour]\n",
    "combinations.sort(key=lambda x: x[0])\n",
    "\n",
    "process_count = 16\n",
    "inputs = []\n",
    "step_size = math.ceil(len(combinations)/process_count)\n",
    "# split combinations to create inputs for processes\n",
    "for i in range(process_count):\n",
    "    inputs.append((combinations[step_size*i:step_size*(i+1)], preprocessing))\n",
    "\n",
    "with Pool(process_count) as p:\n",
    "    result = p.starmap(Experiments.run, inputs)"
   ]
  },
  {
   "cell_type": "code",
   "execution_count": 7,
   "metadata": {},
   "outputs": [],
   "source": [
    "# join results from multiple processes\n",
    "peak_to_troughs = {}\n",
    "for behavior in Behaviour:\n",
    "    peak_to_troughs[behavior] = {}\n",
    "for i in range(len(result)):\n",
    "    for behavior in result[i]:\n",
    "        peak_to_troughs[behavior].update(result[i][behavior])"
   ]
  },
  {
   "cell_type": "code",
   "execution_count": 12,
   "metadata": {},
   "outputs": [],
   "source": [
    "def plot_peak_to_trough_differences(behaviour, baseline, mode, upper=True):\n",
    "    data = []\n",
    "    for electrode_index, peak_to_trough_value in peak_to_troughs[behaviour].items():\n",
    "        data.append((electrode_index, peak_to_trough_value[mode][baseline]))\n",
    "    title = f\"{'Upper' if upper else 'Lower'} Peak-to-Trough Differences for {behaviour.value} ({'Raw' if mode == 0 else 'ICA'}, {baseline.value})\"\n",
    "    if upper:\n",
    "        sorted_values = sorted(data, key=lambda x:x[1])[-20:]\n",
    "    else:\n",
    "        sorted_values = sorted(data, key=lambda x:x[1])[:20]\n",
    "    labels, values = zip(*sorted_values)\n",
    "    plt.figure()\n",
    "    plt.barh(range(len(values)), values, color='skyblue')\n",
    "    plt.xlabel(\"Peak-to-Trough Difference\")\n",
    "    plt.ylabel(\"Electrode\")\n",
    "    plt.yticks(range(len(labels)), labels)\n",
    "    plt.title(title)\n",
    "    plt.savefig(f\"../Results/{title}.png\")\n",
    "    plt.close()    "
   ]
  },
  {
   "cell_type": "code",
   "execution_count": 13,
   "metadata": {},
   "outputs": [],
   "source": [
    "# generate bar plots with peak-to-through differences\n",
    "for behavior in peak_to_troughs:\n",
    "    for baseline in Baseline:\n",
    "        plot_peak_to_trough_differences(behavior, baseline, 0)\n",
    "        plot_peak_to_trough_differences(behavior, baseline, 1)\n",
    "        plot_peak_to_trough_differences(behavior, baseline, 0, False)\n",
    "        plot_peak_to_trough_differences(behavior, baseline, 1, False)"
   ]
  }
 ],
 "metadata": {
  "kernelspec": {
   "display_name": "venv",
   "language": "python",
   "name": "python3"
  },
  "language_info": {
   "codemirror_mode": {
    "name": "ipython",
    "version": 3
   },
   "file_extension": ".py",
   "mimetype": "text/x-python",
   "name": "python",
   "nbconvert_exporter": "python",
   "pygments_lexer": "ipython3",
   "version": "3.10.12"
  }
 },
 "nbformat": 4,
 "nbformat_minor": 2
}
