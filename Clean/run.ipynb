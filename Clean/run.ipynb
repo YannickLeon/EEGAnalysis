{
 "cells": [
  {
   "cell_type": "code",
   "execution_count": 1,
   "metadata": {},
   "outputs": [],
   "source": [
    "from Preprocessing import Preprocessing\n",
    "from utils import Behaviour, Baseline\n",
    "import Experiments\n",
    "import matplotlib\n",
    "matplotlib.use('Agg') # Prevent drawings in this notebook\n",
    "import matplotlib.pyplot as plt\n",
    "from multiprocessing import Pool\n",
    "import math"
   ]
  },
  {
   "cell_type": "code",
   "execution_count": null,
   "metadata": {},
   "outputs": [],
   "source": [
    "# bids_root = \"../data/\"\n",
    "# preprocessing = Preprocessing(bids_root, \"cache\")\n",
    "# preprocessing.prepare_channels()"
   ]
  },
  {
   "cell_type": "code",
   "execution_count": null,
   "metadata": {},
   "outputs": [
    {
     "name": "stderr",
     "output_type": "stream",
     "text": [
      "100%|██████████| 18/18 [07:19<00:00, 24.40s/it]\n",
      "100%|██████████| 23/23 [09:13<00:00, 24.05s/it]\n",
      "100%|██████████| 23/23 [09:16<00:00, 24.19s/it]\n",
      "100%|██████████| 23/23 [09:17<00:00, 24.22s/it]\n",
      "100%|██████████| 23/23 [09:19<00:00, 24.32s/it]\n",
      "100%|██████████| 23/23 [09:20<00:00, 24.36s/it]\n",
      "100%|██████████| 23/23 [09:21<00:00, 24.41s/it]\n",
      "100%|██████████| 23/23 [09:21<00:00, 24.41s/it]\n",
      "100%|██████████| 23/23 [09:21<00:00, 24.43s/it]\n",
      "100%|██████████| 23/23 [09:22<00:00, 21.62s/it]\n",
      "100%|██████████| 23/23 [09:23<00:00, 24.51s/it]\n",
      "100%|██████████| 23/23 [09:23<00:00, 24.52s/it]\n",
      "100%|██████████| 23/23 [09:24<00:00, 24.55s/it]\n",
      "100%|██████████| 23/23 [09:24<00:00, 24.56s/it]\n",
      "100%|██████████| 23/23 [09:25<00:00, 24.57s/it]\n",
      "100%|██████████| 23/23 [09:25<00:00, 24.57s/it]\n",
      "100%|██████████| 23/23 [09:25<00:00, 24.60s/it]\n",
      "100%|██████████| 23/23 [09:26<00:00, 24.63s/it]\n",
      "100%|██████████| 23/23 [09:26<00:00, 24.65s/it]\n",
      "100%|██████████| 23/23 [09:29<00:00, 24.74s/it]\n"
     ]
    },
    {
     "name": "stdout",
     "output_type": "stream",
     "text": [
      "{<Behaviour.STATUS: 'STATUS'>: {0: ([np.float64(22.54361614356225), np.float64(21.57824862583322), np.float64(17.098798968196917)], [np.float64(14.541784002404714), np.float64(13.490570354191107), np.float64(21.827923446667583)]), 1: ([np.float64(13.647716565326956), np.float64(12.968056201228293), np.float64(14.212758480205842)], [np.float64(20.30789707480072), np.float64(19.153585206288035), np.float64(15.782800371208257)]), 2: ([np.float64(25.173618237864854), np.float64(23.79645880707742), np.float64(20.863246541675906)], [np.float64(12.229292061418178), np.float64(11.863659524301674), np.float64(11.63447495682668)]), 3: ([np.float64(42.528772271854336), np.float64(40.291448361249444), np.float64(37.10926858870217)], [np.float64(14.658510025848827), np.float64(14.050841431321752), np.float64(13.301129967265245)])}, <Behaviour.SHOOT_BUTTON: 'SHOOT_BUTTON'>: {0: ([np.float64(24.884689310650778), np.float64(16.535087068030016), np.float64(16.95023817048358)], [np.float64(15.428157205551647), np.float64(9.537810762738673), np.float64(22.08175124961705)]), 1: ([np.float64(18.84903524250233), np.float64(14.477819151723825), np.float64(17.592011601732416)], [np.float64(14.794145150416172), np.float64(11.647538625918841), np.float64(14.953748316449435)]), 2: ([np.float64(32.21371296531343), np.float64(21.67929688653236), np.float64(23.486109062035005)], [np.float64(14.27778041957723), np.float64(10.701165175275705), np.float64(6.913275892452542)]), 3: ([np.float64(84.38331236869504), np.float64(56.391358322133655), np.float64(53.34129956587635)], [np.float64(47.43346699547642), np.float64(29.06394802579424), np.float64(25.406232270334137)])}, <Behaviour.MISSILE_HIT_ENEMY: 'MISSILE_HIT_ENEMY'>: {0: ([np.float64(22.491233587630326), np.float64(17.305888177326487), np.float64(17.97198183194315)], [np.float64(14.343562325172043), np.float64(11.903945752585615), np.float64(20.82345411285221)]), 1: ([np.float64(17.782595736522957), np.float64(14.132285751748253), np.float64(18.332766590441906)], [np.float64(15.696084633830512), np.float64(12.672167671128742), np.float64(15.16335352550009)]), 2: ([np.float64(8.704316537969921), np.float64(5.961581984887864), np.float64(8.01855583400898)], [np.float64(14.250849122514076), np.float64(11.238952421495894), np.float64(16.04446673644594)])}, <Behaviour.COLLECT_STAR: 'COLLECT_STAR'>: {0: ([np.float64(22.6655732191871), np.float64(17.783914440533955), np.float64(28.23497837927615)], [np.float64(17.51776744856521), np.float64(14.690968774340385), np.float64(22.99367642264336)]), 1: ([np.float64(17.015048500437736), np.float64(14.289481861532721), np.float64(13.700105151748435)], [np.float64(24.465035654825954), np.float64(19.83875196241342), np.float64(21.78644838065367)]), 2: ([np.float64(20.38194036613251), np.float64(15.763418884292417), np.float64(14.412167846597317)], [np.float64(21.803595808787513), np.float64(17.96310174409806), np.float64(18.488829693270233)])}, <Behaviour.PLAYER_CRASH_ENEMY: 'PLAYER_CRASH_ENEMY'>: {0: ([np.float64(29.059023718086053), np.float64(27.195372804423982), np.float64(14.964533035997079)], [np.float64(30.41872109259591), np.float64(28.62361207868544), np.float64(42.12474257141446)]), 1: ([np.float64(24.979279466606112), np.float64(23.884080134100774), np.float64(20.10339358513403)], [np.float64(33.228377279893365), np.float64(31.480938279840437), np.float64(28.943227635788446)]), 2: ([np.float64(46.653712601478844), np.float64(43.40327476250653), np.float64(41.29373332667655)], [np.float64(35.05046433246777), np.float64(32.86025635055486), np.float64(33.38402821418883)])}, <Behaviour.PLAYER_CRASH_WALL: 'PLAYER_CRASH_WALL'>: {0: ([np.float64(37.99664964464787), np.float64(36.348935378503484), np.float64(46.6260046929298)], [np.float64(47.0135945560676), np.float64(44.44428299619871), np.float64(56.676948722486785)]), 1: ([np.float64(20.373854015903195), np.float64(20.11291162159929), np.float64(23.329065258478238)], [np.float64(34.57687241379025), np.float64(32.9457885905286), np.float64(29.362120103757157)]), 2: ([np.float64(29.501142795593207), np.float64(27.983030374205377), np.float64(25.518232601130826)], [np.float64(45.56315549400577), np.float64(42.80391327531532), np.float64(42.12636748678536)])}, <Behaviour.COLLECT_AMMO: 'COLLECT_AMMO'>: {0: ([np.float64(28.8527221293713), np.float64(28.026442108259175), np.float64(42.02792384406166)], [np.float64(24.09771584533814), np.float64(23.402618102419567), np.float64(27.68594741613781)]), 1: ([np.float64(33.503158329983926), np.float64(32.20092295804919), np.float64(30.688667271078877)], [np.float64(41.26776840009035), np.float64(39.63177946543381), np.float64(41.01396192203083)]), 2: ([np.float64(17.706655648417843), np.float64(17.056603340432886), np.float64(15.963735267452403)], [np.float64(39.38374031661439), np.float64(38.00455234689694), np.float64(38.83807796917498)])}}\n"
     ]
    }
   ],
   "source": [
    "#combinations = [(3, Behaviour.SHOOT_BUTTON), (8, Behaviour.MISSILE_HIT_ENEMY)]\n",
    "combinations = [(i, behaviour) for i in range(65) for behaviour in Behaviour]\n",
    "combinations.sort(key=lambda x: x[0])\n",
    "\n",
    "process_count = 20\n",
    "inputs = []\n",
    "step_size = math.ceil(len(combinations)/process_count)\n",
    "for i in range(process_count):\n",
    "    inputs.append(combinations[step_size*i:step_size*(i+1)])\n",
    "\n",
    "with Pool(process_count) as p:\n",
    "    result = p.map(Experiments.run, inputs)"
   ]
  },
  {
   "cell_type": "code",
   "execution_count": null,
   "metadata": {},
   "outputs": [],
   "source": [
    "# join results\n",
    "peak_to_trough = {}\n",
    "for data in result:\n",
    "    pass"
   ]
  },
  {
   "cell_type": "code",
   "execution_count": null,
   "metadata": {},
   "outputs": [],
   "source": [
    "baseline_to_int = {Baseline.EXCLUDED: 0, Baseline.INCLUDED: 1, Baseline.NAIVE: 2}\n",
    "\n",
    "def plot_peak_to_trough_differences(behaviour, baseline, mode):\n",
    "    data = []\n",
    "    for electrode_index, peak_to_trough_value in peak_to_troughs[behaviour].items():\n",
    "        data.append((electrode_index, peak_to_trough_value[mode][baseline_to_int[baseline]]))\n",
    "    title = f\"Lower Peak-to-Trough Differences for {behaviour.value} ({'Raw' if mode == 0 else 'ICA'}, {baseline.value})\"\n",
    "    sorted_values = sorted(data, key=lambda x:x[1])[:20]\n",
    "    labels, values = zip(*sorted_values)\n",
    "    plt.figure()\n",
    "    plt.barh(range(len(values)), values, color='skyblue')\n",
    "    plt.xlabel(\"Peak-to-Trough Difference\")\n",
    "    plt.ylabel(\"Electrode\")\n",
    "    plt.yticks(range(len(labels)), labels)\n",
    "    plt.title(title)\n",
    "    plt.savefig(f\"../Results/{title}.png\")\n",
    "    plt.close()    "
   ]
  },
  {
   "cell_type": "code",
   "execution_count": null,
   "metadata": {},
   "outputs": [
    {
     "ename": "NameError",
     "evalue": "name 'peak_to_troughs' is not defined",
     "output_type": "error",
     "traceback": [
      "\u001b[0;31m---------------------------------------------------------------------------\u001b[0m",
      "\u001b[0;31mNameError\u001b[0m                                 Traceback (most recent call last)",
      "Cell \u001b[0;32mIn[5], line 1\u001b[0m\n\u001b[0;32m----> 1\u001b[0m \u001b[43mpeak_to_troughs\u001b[49m[Behaviour\u001b[38;5;241m.\u001b[39mCOLLECT_AMMO][\u001b[38;5;241m0\u001b[39m][\u001b[38;5;241m0\u001b[39m][Baseline\u001b[38;5;241m.\u001b[39mEXCLUDED]\n",
      "\u001b[0;31mNameError\u001b[0m: name 'peak_to_troughs' is not defined"
     ]
    }
   ],
   "source": [
    "peak_to_troughs[Behaviour.COLLECT_AMMO][0][0][Baseline.EXCLUDED]"
   ]
  },
  {
   "cell_type": "code",
   "execution_count": null,
   "metadata": {},
   "outputs": [],
   "source": [
    "for behavior in peak_to_troughs:\n",
    "    for baseline in Baseline:\n",
    "        plot_peak_to_trough_differences(behavior, baseline, 0)\n",
    "        plot_peak_to_trough_differences(behavior, baseline, 1)"
   ]
  }
 ],
 "metadata": {
  "kernelspec": {
   "display_name": "eeg",
   "language": "python",
   "name": "python3"
  },
  "language_info": {
   "codemirror_mode": {
    "name": "ipython",
    "version": 3
   },
   "file_extension": ".py",
   "mimetype": "text/x-python",
   "name": "python",
   "nbconvert_exporter": "python",
   "pygments_lexer": "ipython3",
   "version": "3.10.16"
  }
 },
 "nbformat": 4,
 "nbformat_minor": 2
}
